{
 "cells": [
  {
   "cell_type": "markdown",
   "id": "d6de0dbd-d3f5-4164-951e-3088b30466af",
   "metadata": {},
   "source": [
    "# RelMinerR \n",
    "In natural language processing (NLP) and text mining, understanding the relationship between two terms can be crucial for tasks such as knowledge extraction, semantic analysis, and information retrieval. For example, you may want to evaluate how strongly two concepts (such as \"Cancer\" and \"TP53\") are related across a large corpus of documents by considering their synonyms. This relationship can be quantified by calculating co-occurrences, Pointwise Mutual Information (PMI), and Normalized Pointwise Mutual Information (NPMI). \n",
    "\n",
    "\n",
    "**RelMineR** is an R package designed to facilitate the discovery of potential biomedical relationships between terms using PMI and NPMI scores. \n",
    "\n",
    "**Key Features:**\n",
    "\n",
    "* **Relationship Quantification:** Employs established metrics like co-occurrences, PMI, and NPMI to measure the strength of relationships between terms.\n",
    "* **PubMed Abstraction:** Leverages a pre-built Elasticsearch index of PubMed abstracts to efficiently search for relevant information.\n",
    "* **Biomedical Focus:** Tailored to the specific needs of biomedical research, ensuring accurate and meaningful relationship discovery.\n",
    "\n",
    "**How it Works:**\n",
    "\n",
    "1. **Elasticsearch Integration:** RelMineR seamlessly connects to a pre-configured Elasticsearch index containing PubMed abstracts.\n",
    "3. **Relationship Quantification:** Calculates metrics such as PMI and NPMI to quantify the strength of these relationships.\n",
    "4. **API Access:** Provides a user-friendly API that allows researchers to query the system for potential relationships between terms of interest.\n",
    "\n",
    "**Note:** Detailed instructions for building the Elasticsearch index of PubMed abstracts will be available in a separate GitHub repository.\n",
    "\n",
    "By utilizing RelMineR, researchers can gain valuable insights into the connections between biomedical concepts, accelerating their understanding of complex biological processes and facilitating the discovery of new knowledge.\n",
    "\n",
    "\n",
    "# Background\n",
    "\n",
    "## Pointwise Mutual Information (PMI)\n",
    "\n",
    "PMI is a measure of the association between two terms based on their co-occurrence. It quantifies how much more likely two terms are to co-occur than would be expected by chance. PMI is used widely in the field of information theory and computational linguistics to quantify the strength of association between two terms. It was initially proposed by [Church and Hanks (1990)](https://aclanthology.org/J90-1003.pdf) as a way to measure word associations in corpora.\n",
    "\n",
    "$$\n",
    "\\text{PMI}(A, B) = \\log \\frac{P(A, B)}{P(A) \\cdot P(B)}\n",
    "$$\n",
    "\n",
    "Where:\n",
    "- \\( P(A, B) \\) is the probability that both terms \\(A\\) and \\(B\\) occur together (co-occurrence).\n",
    "- \\( P(A) \\) is the probability that term \\(A\\) occurs.\n",
    "- \\( P(B) \\) is the probability that term \\(B\\) occurs.\n",
    "\n",
    "## PMI in Terms of Document Counts\n",
    "\n",
    "When working with document counts in a corpus, PMI can be expressed as:\n",
    "\n",
    "$$\n",
    "\\text{PMI}(A, B) = \\log \\frac{\\frac{n_{AB}}{N}}{\\left(\\frac{n_A}{N}\\right) \\cdot \\left(\\frac{n_B}{N}\\right)}\n",
    "$$\n",
    "\n",
    "Where:\n",
    "- \\(n_{AB}\\) is the number of documents where both \\(A\\) and \\(B\\) occur (co-occurrence).\n",
    "- \\(n_A\\) is the number of documents where \\(A\\) occurs.\n",
    "- \\(n_B\\) is the number of documents where \\(B\\) occurs.\n",
    "- \\(N\\) is the total number of documents.\n",
    "\n",
    "## Normalized Pointwise Mutual Information (nPMI)\n",
    "\n",
    "nPMI is a normalized version of PMI that scales the values between -1 and 1. It is used to account for the fact that PMI tends to increase with rarer terms. It was first implemented by [Bouma (2009)](https://www.semanticscholar.org/paper/Normalized-(pointwise)-mutual-information-in-Bouma/15218d9c029cbb903ae7c729b2c644c24994c201). \n",
    "\n",
    "\n",
    "$$\n",
    "\\text{nPMI}(A, B) = \\frac{\\text{PMI}(A, B)}{-\\log P(A, B)}\n",
    "$$\n",
    "\n",
    "Or in terms of document counts:\n",
    "\n",
    "$$\n",
    "\\text{nPMI}(A, B) = \\frac{\\log \\frac{P(A, B)}{P(A) \\cdot P(B)}}{-\\log P(A, B)}\n",
    "$$\n",
    "\n",
    "Where:\n",
    "- \\(P(A, B)\\) is the probability of co-occurrence of \\(A\\) and \\(B\\), as defined above.\n",
    "\n",
    "## Additional Notes:\n",
    "\n",
    "- PMI is positive if the two terms co-occur more often than expected by chance, negative if they co-occur less often, and zero if they are independent.\n",
    "- nPMI normalizes PMI and ranges from -1 to 1, where:\n",
    "  - \\(1\\) indicates perfect co-occurrence (always occur together).\n",
    "  - \\(0\\) indicates independence (no association).\n",
    "  - \\(-1\\) indicates that the terms never co-occur.\n",
    "\n",
    "These formulas are essential when analyzing the relationship between terms using co-occurrence data.\n",
    "\n",
    "## Select application to biomedical research \n",
    "\n",
    "### Stress response pathways\n",
    "[Chambers et al. (2024)](https://doi.org/10.1021/acs.chemrestox.3c00335.) have used the approach to find chemicals that induce adaptive stress response pathways (SRPs) by applying Pointwise Mutual Information (PMI) and Normalized Pointwise Mutual Information (NPMI), as described in Chambers et al. (2024). SRPs are essential for restoring cellular homeostasis following perturbation, and when disrupted beyond critical thresholds, they can lead to apoptosis, autophagy, or cellular senescence. These pathways are key indicators for therapeutic interventions and biomarkers of toxicity.\n",
    "\n",
    "## References\n",
    "\n",
    "[Church, Kenneth, and Patrick Hanks. “Word Association Norms, Mutual Information, and Lexicography.” Computational Linguistics 16, no. 1 (1990): 22–29.](https://aclanthology.org/J90-1003.pdf)\n",
    "\n",
    "[Bouma, Gerlof. “Normalized (Pointwise) Mutual Information in Collocation Extraction.” Proceedings of GSCL 30 (2009): 31–40.](https://www.semanticscholar.org/paper/Normalized-(pointwise)-mutual-information-in-Bouma/15218d9c029cbb903ae7c729b2c644c24994c201)\n",
    "\n",
    "[Chambers, Bryant A., Danilo Basili, Laura Word, Nancy Baker, Alistair Middleton, Richard S. Judson, and Imran Shah. “Searching for LINCS to Stress: Using Text Mining to Automate Reference Chemical Curation.” Chemical Research in Toxicology 37, no. 6 (June 17, 2024): 878–93.](https://doi.org/10.1021/acs.chemrestox.3c00335.)\n",
    "\n",
    "\n"
   ]
  },
  {
   "cell_type": "markdown",
   "id": "789e2598-eea2-4ca0-81ba-b8e182929063",
   "metadata": {},
   "source": [
    "# Use-cases"
   ]
  },
  {
   "cell_type": "markdown",
   "id": "2032e68b-0449-421f-8b84-e552b30e9b24",
   "metadata": {},
   "source": [
    "## Relationship between any two terms \n",
    "\n",
    "You want to evaluate how strongly two concepts (such as \"Cancer\" and \"TP53\") are related across a large corpus of documents. "
   ]
  },
  {
   "cell_type": "markdown",
   "id": "8073fc77-0c80-4b60-90f2-b593be09e9ca",
   "metadata": {},
   "source": [
    "1. Create an list to store relevant information to connect to the ElasticSearch server running on localhost at port 9200. \n"
   ]
  },
  {
   "cell_type": "code",
   "execution_count": 3,
   "id": "149651d3-687b-4b5b-9653-c4ff397d8a9e",
   "metadata": {},
   "outputs": [],
   "source": [
    "RM0 <- create_relminer(host='localhost',port = 9200,index='pubmed')\n"
   ]
  },
  {
   "cell_type": "markdown",
   "id": "8a7ab7c8-2d6b-443b-b33a-485a2e104fcb",
   "metadata": {},
   "source": [
    "2. Use the `count_occurrence` function to count the number of abstracts with Cancer or TP53"
   ]
  },
  {
   "cell_type": "code",
   "execution_count": 7,
   "id": "9dc0903e-6240-447c-b2ca-97afd1fcce62",
   "metadata": {},
   "outputs": [
    {
     "data": {
      "text/html": [
       "1522097"
      ],
      "text/latex": [
       "1522097"
      ],
      "text/markdown": [
       "1522097"
      ],
      "text/plain": [
       "[1] 1522097"
      ]
     },
     "metadata": {},
     "output_type": "display_data"
    }
   ],
   "source": [
    "count_occurrences(terms = c('Cancer'),relminer = RM0)"
   ]
  },
  {
   "cell_type": "code",
   "execution_count": 8,
   "id": "ed8fae30-bd8b-477d-ad22-aae822e9772e",
   "metadata": {},
   "outputs": [
    {
     "data": {
      "text/html": [
       "16073"
      ],
      "text/latex": [
       "16073"
      ],
      "text/markdown": [
       "16073"
      ],
      "text/plain": [
       "[1] 16073"
      ]
     },
     "metadata": {},
     "output_type": "display_data"
    }
   ],
   "source": [
    "count_occurrences(terms = c('TP53'),relminer = RM0)"
   ]
  },
  {
   "cell_type": "markdown",
   "id": "022ac050-4c28-4817-9ba8-807c5bcc5716",
   "metadata": {},
   "source": [
    "3. Use the `count_cooccurrence` function to count the number of abstracts with Cancer and TP53"
   ]
  },
  {
   "cell_type": "code",
   "execution_count": 9,
   "id": "5f221405-a830-4db7-a551-42fe6ad62386",
   "metadata": {},
   "outputs": [
    {
     "data": {
      "text/html": [
       "8884"
      ],
      "text/latex": [
       "8884"
      ],
      "text/markdown": [
       "8884"
      ],
      "text/plain": [
       "[1] 8884"
      ]
     },
     "metadata": {},
     "output_type": "display_data"
    }
   ],
   "source": [
    "count_cooccurrences(terms_A = c('Cancer'),terms_B=c('TP53'),relminer = RM0)"
   ]
  },
  {
   "cell_type": "markdown",
   "id": "78ca2b60-133d-4298-a765-2f85217038c7",
   "metadata": {},
   "source": [
    "4. Use the `count_cooccurrence` function to count the number of abstracts with Cancer and TP53 as well as their potential synonyms"
   ]
  },
  {
   "cell_type": "code",
   "execution_count": 12,
   "id": "438d66d3-26af-4618-982f-37080157fd1d",
   "metadata": {},
   "outputs": [
    {
     "data": {
      "text/html": [
       "44707"
      ],
      "text/latex": [
       "44707"
      ],
      "text/markdown": [
       "44707"
      ],
      "text/plain": [
       "[1] 44707"
      ]
     },
     "metadata": {},
     "output_type": "display_data"
    }
   ],
   "source": [
    "count_cooccurrences(terms_A = c('Cancer','neoplasia','neoplasm'),terms_B=c('TP53','P53'),relminer = RM0)"
   ]
  },
  {
   "cell_type": "markdown",
   "id": "221be8c8-f2a9-4b24-aeed-bf30f9ffeb8f",
   "metadata": {},
   "source": [
    "Using synonyms in information retrieval or text mining helps you get more hits because different terms or expressions can refer to the same concept. In scientific literature, common names, abbreviations, or alternate descriptions are frequently used to refer to the same entity, such as genes, chemicals, or diseases. By incorporating synonyms, you broaden the scope of the search and increase the likelihood of matching relevant documents."
   ]
  },
  {
   "cell_type": "markdown",
   "id": "51046246-dbb9-4bb8-abdf-a079d88cfc20",
   "metadata": {},
   "source": [
    "5. Calculate the PMI and NPMI using the `find_rels` function, which require the terms to be structured as named list"
   ]
  },
  {
   "cell_type": "code",
   "execution_count": 24,
   "id": "8929437f-ca8a-4eb8-9c4f-53957cf2b4bf",
   "metadata": {},
   "outputs": [
    {
     "data": {
      "text/html": [
       "<table class=\"dataframe\">\n",
       "<caption>A data.frame: 1 × 10</caption>\n",
       "<thead>\n",
       "\t<tr><th scope=col>term_a</th><th scope=col>term_b</th><th scope=col>class_a</th><th scope=col>class_b</th><th scope=col>count_a</th><th scope=col>count_b</th><th scope=col>count_ab</th><th scope=col>count_docs</th><th scope=col>pmi</th><th scope=col>npmi</th></tr>\n",
       "\t<tr><th scope=col>&lt;chr&gt;</th><th scope=col>&lt;chr&gt;</th><th scope=col>&lt;chr&gt;</th><th scope=col>&lt;chr&gt;</th><th scope=col>&lt;int&gt;</th><th scope=col>&lt;int&gt;</th><th scope=col>&lt;int&gt;</th><th scope=col>&lt;int&gt;</th><th scope=col>&lt;dbl&gt;</th><th scope=col>&lt;dbl&gt;</th></tr>\n",
       "</thead>\n",
       "<tbody>\n",
       "\t<tr><td>p53</td><td>Cancer</td><td>gene</td><td>disease</td><td>95237</td><td>1572923</td><td>44707</td><td>20688473</td><td>2.626286</td><td>0.2966177</td></tr>\n",
       "</tbody>\n",
       "</table>\n"
      ],
      "text/latex": [
       "A data.frame: 1 × 10\n",
       "\\begin{tabular}{llllllllll}\n",
       " term\\_a & term\\_b & class\\_a & class\\_b & count\\_a & count\\_b & count\\_ab & count\\_docs & pmi & npmi\\\\\n",
       " <chr> & <chr> & <chr> & <chr> & <int> & <int> & <int> & <int> & <dbl> & <dbl>\\\\\n",
       "\\hline\n",
       "\t p53 & Cancer & gene & disease & 95237 & 1572923 & 44707 & 20688473 & 2.626286 & 0.2966177\\\\\n",
       "\\end{tabular}\n"
      ],
      "text/markdown": [
       "\n",
       "A data.frame: 1 × 10\n",
       "\n",
       "| term_a &lt;chr&gt; | term_b &lt;chr&gt; | class_a &lt;chr&gt; | class_b &lt;chr&gt; | count_a &lt;int&gt; | count_b &lt;int&gt; | count_ab &lt;int&gt; | count_docs &lt;int&gt; | pmi &lt;dbl&gt; | npmi &lt;dbl&gt; |\n",
       "|---|---|---|---|---|---|---|---|---|---|\n",
       "| p53 | Cancer | gene | disease | 95237 | 1572923 | 44707 | 20688473 | 2.626286 | 0.2966177 |\n",
       "\n"
      ],
      "text/plain": [
       "  term_a term_b class_a class_b count_a count_b count_ab count_docs pmi     \n",
       "1 p53    Cancer gene    disease 95237   1572923 44707    20688473   2.626286\n",
       "  npmi     \n",
       "1 0.2966177"
      ]
     },
     "metadata": {},
     "output_type": "display_data"
    }
   ],
   "source": [
    "gene <- create_term('p53',c('P53','TP53'),'gene')\n",
    "disease <- create_term('Cancer',c('Cancer','neoplasia','neoplasm'),'disease')\n",
    "\n",
    "find_rel(gene,disease,relminer = RM0)"
   ]
  },
  {
   "cell_type": "markdown",
   "id": "6964a48d-ef5a-41c7-80a8-86bb88057684",
   "metadata": {},
   "source": [
    "\n",
    "### Explanation of the find_rels output:-\n",
    "\n",
    "This represents the **co-occurrence analysis** between two terms, in this case **p53** and **Cancer**, across a PubMed abstracts documents. The columns in the `data.frame` contain various statistics about the terms' individual occurrences, their joint occurrences, and measures of their association based on co-occurrence analysis.\n",
    "\n",
    "#### Column Descriptions:\n",
    "- **`term_a`**: The first term in the analysis **p53**\n",
    "  \n",
    "- **`term_b`**: The second term in the analysis **Cancer**\n",
    "\n",
    "- **`class_a`**: The category or class to which `term_a` belongs. Here, `p53` is defined (by the user) as a **gene**.\n",
    "\n",
    "- **`class_b`**: The category or class to which `term_b` belongs. Here, `Cancer` is classified as a **disease**.\n",
    "\n",
    "- **`count_a`**: The total number of documents in the corpus where `term_a` (p53) occurs. In this case, **95,237** documents mention p53.\n",
    "\n",
    "- **`count_b`**: The total number of documents in the corpus where `term_b` (Cancer) occurs. In this case, **1,572,923** documents mention Cancer.\n",
    "\n",
    "- **`count_ab`**: The total number of documents where both `term_a` (p53) and `term_b` (Cancer) co-occur together. In this case, **44,707** documents mention both p53 and Cancer.\n",
    "- **`count_docs`**: The total number of abstracts in the index\n",
    "\n",
    "- **`pmi`**: The **Pointwise Mutual Information (PMI)** score, which measures the strength of association between `term_a` and `term_b` based on their co-occurrence. A higher PMI score indicates that the two terms co-occur more often than would be expected by chance. In this case, the PMI score of **2.626286** suggests that p53 and Cancer co-occur more frequently than random chance would suggest.\n",
    "\n",
    "- **`npmi`**: The **Normalized Pointwise Mutual Information (NPMI)** score, which normalizes the PMI score to a value between -1 and 1. An NPMI value closer to **1** indicates a strong positive association (the terms frequently co-occur), **0** indicates independence (the terms occur together at random), and **-1** indicates a strong negative association (the terms never co-occur). In this case, the NPMI score of **0.2966177** suggests a moderate positive association between p53 and Cancer.\n",
    "\n",
    "### Interpretation:\n",
    "- The data suggests that **p53** (a gene) and **Cancer** (a disease) co-occur in **44,707** documents out of a corpus, with **95,237** documents mentioning p53 and **1,572,923** mentioning Cancer.\n",
    "- The **PMI score of 2.63** indicates that p53 and Cancer co-occur more frequently than expected by chance.\n",
    "- The **NPMI score of 0.30** suggests a moderate association between the two terms, meaning that p53 is frequently mentioned in the context of Cancer in the documents analyzed.\n",
    "\n",
    "This suggests a potential relationship between the gene **p53** and **Cancer**, providing insights into how often they co-occur and how strongly they are associated in the analyzed corpus of documents. \n"
   ]
  },
  {
   "cell_type": "markdown",
   "id": "72aaca05-334d-4436-a78b-b653ea8d507a",
   "metadata": {},
   "source": [
    "## Relationships between chemicals and diseases\n",
    "\n",
    "This second use case aims to uncover relationships between thousands of chemicals and hundreds of diseases by leveraging co-occurrence analysis and statistical association measures PMI and NPMI. This task is a littler more involved due to the scale of the input terms.\n",
    "\n"
   ]
  },
  {
   "cell_type": "markdown",
   "id": "1f58397c-07e8-4dd5-8a80-f0c921c5a3ea",
   "metadata": {},
   "source": [
    "1. Load chemicals and store them in a list"
   ]
  },
  {
   "cell_type": "code",
   "execution_count": 5,
   "id": "01a69394-b058-466d-bfda-2ba65d6ab02b",
   "metadata": {},
   "outputs": [],
   "source": [
    "Chems <- read.csv(\"../data/chem.tsv\",sep='\\t',quote=\"\\\"\")\n",
    "#save(Chems, file = \"../data/chems.rda\")"
   ]
  },
  {
   "cell_type": "code",
   "execution_count": 6,
   "id": "2d0f17f0-11ba-425b-9827-a5297ad41fb8",
   "metadata": {},
   "outputs": [
    {
     "data": {
      "text/html": [
       "<table class=\"dataframe\">\n",
       "<caption>A data.frame: 1 × 3</caption>\n",
       "<thead>\n",
       "\t<tr><th></th><th scope=col>name</th><th scope=col>class</th><th scope=col>synonyms</th></tr>\n",
       "\t<tr><th></th><th scope=col>&lt;chr&gt;</th><th scope=col>&lt;chr&gt;</th><th scope=col>&lt;chr&gt;</th></tr>\n",
       "</thead>\n",
       "<tbody>\n",
       "\t<tr><th scope=row>39</th><td>Chlorpromazine hydrochloride</td><td>chemical</td><td>1329612-87-4|NSC 17479|DTXCID404827|Chlorpromazine hydrochloride, United States Pharmacopeia (USP) Reference Standard|CHLORPROMAZINE HYDROCHLORIDE [USP MONOGRAPH]|[3-(2-Chloro-10H-phenothiazin-10-yl)propyl]-dimethylamine hydrochloride|C17H19ClN2S.ClH|Tox21_500249|Chlorpromazine Hcl Intensol|CAS-69-09-0|Chlorpromazine, Hydrochloride|Chlorpromazine hydrochloride, &gt;=98% (TLC)|C2481|C 8138|Propaphenin hydrochloride|69-09-0 (HCl)|NCGC00093711-02|Chlorpromazine hydrochloride [USAN:BAN:JAN]|Chloractil|CHLORPROMAZINE HYDROCHLORIDE [EP IMPURITY]|chlorpromazinhydrochlorid-|CHLORPROMAZINI HYDROCHLORIDUM [WHO-IP LATIN]|2-Chloro-10-(3-(dimethylamino)propyl)phenothiazine monohydrochloride|Phenothiazine hydrochloride|Chlorpromazine hydrochloride, meets USP testing specifications|10H-Phenothiazine-10-propanamine, 2-chloro-N,N-dimethyl-, hydrochloride (1:1)|NC00552|NCGC00093711-01|HY-B0407A|4560 Rp hydrochloride|AI3-28023|Z104477466|CHLORPROMAZINE HYDROCHLORIDE [USP-RS]|Chloropromazine hcl|Phenothiazine, 2-chloro-10-(3-(dimethylamino)propyl)-, monohydrochloride|s2456|2-Chloro-10-(3-dimethylaminopropyl)phenothiazine monohydrochloride|AKOS005111082|WLN: T C666 BN ISJ B3N1&amp;1 EG &amp;GH|CHLORPROMAZINE HYDROCHLORIDE [ORANGE BOOK]|Propaphen|MLS002222157|C-165|Fenactil monohydrochloride|10-(3-Dimethylaminopropyl)-2-chlorophenothiazine monohydrochloride|CHLORPROMAZINE HYDROCHLORIDE [JAN]|CHLORPROMAZINE HYDROCHLORIDE [WHO-IP]|[3-(2-chloro-10H-phenothiazin-10-yl)propyl]dimethylamine hydrochloride|Neurazine|Chlorpromazine Hcl|EU-0100249|69-09-0|UNII-9WP59609J6|Chlorpromazine, Hydrochloride - CAS 69-09-0|Aminazinum|BCP30284|Chlorpromazine hydrochloride, 98%|Chlorpromazini hydrochloridum|CHEBI:3649|AC-10573|Sonazine|Chlorpromazine hydrochloride [USP:BAN:JAN]|Chlorpromazine hydrochloride (JP17/USP)|D00789|Lomazine|Chlorpromazine (hydrochloride)|Chlorpromazine Hydrochloride Intensol|Chlorpromazine hydrochloride, European Pharmacopoeia (EP) Reference Standard|MLS000069401|2-Chloro-10-[3-(dimethylamino)propyl]phenothiazine monohydrochloride|CPZ (VAN)|Largaktyl|AC1LCWF1|SCHEMBL41771|Chlorpromazinium chloride|9WP59609J6|Promapar|7-[Diethylamino]coumarin-3-carbonylazide|SR-01000000012-2|Taroctyl|Opera_ID_1294|CHLOROPROMAZINE HYDROCHLORIDE|NCGC00260934-01|FT-0623715|CHLORPROMAZINE HYDROCHLORIDE [MART.]|Chlorpromazine Hydrochloride 1.0 mg/ml in Methanol (as free base)|Promacid|Chlorpromazine monohydrochloride|LS-1585|NCGC00180973-01|Hebanil|HMS1568M09|MLS-0090820.0001|Q27106159|Klorpromex|CCRIS 6221|Klorproman|Marazine|D89519|Q-200842|NSC-17479|2-Chloro-10-(3-dimethylaminopropyl)phenothiazine hydrochloride|SR-01000000012|Tox21_300517|10H-phenothiazine-10-propanamine hydrochloride, 2-chloro-N,N-dimethyl-|Unitensen|Hibanil|CHLORPROMAZINE HYDROCHLORIDE [EP MONOGRAPH]|3-(2-chlorophenothiazin-10-yl)-N,N-dimethylpropan-1-amine;hydrochloride.|Aminazinum (for the hydrochloride)|Promexin|EINECS 200-701-3|Chlorpromazine chloride|NSC226514|CHLORPROMAZINE HYDROCHLORIDE [WHO-DD]|Chlorpromazine hydrochloride, VETRANAL(TM), analytical standard|C07952|Chloropromazin hydrochloride|Ampliactil monohydrochloride|2-chloro-10-(3-dimethylaminopropyl) phenothiazine hydrochloride|Thorazine hydrochloride|EN300-20245|CCG-221553|Chlorpromazine hydrochloride|Megatil|NCI-C05210|CHLORPROMAZINE HYDROCHLORIDE [VANDF]|DTXSID7024827|FBSMERQALIEGJT-UHFFFAOYSA-N|NCGC00024409-09|CHLORPROMAZINE HYDROCHLORIDE [MI]|Tranzine|Contomin hydrochloride|CCG-220064|SW196373-5|Chloropromazine monohydrochloride|SMR000058254|FT-0665009|CHEMBL1713|NCGC00254272-01|MFCD00012654|Chlorpromazine-13C,d3 Hydrochloride|NSC17479|2-Chloro-10-[3-(dimethylamino)-1-propyl]phenothiazine Hydrochloride|Chlorpromazin-d6 hydrochloride|Norcozine|Megaphen hydrochloride|Aminazin monohydrochloride|Hybernal|Sonazine (TN)|MLS001148603|Plegomazin|Largactil monohydrochloride|10H-Phenothiazine-10-propanamine, 2-chloro-N,N-dimethyl-, monohydrochloride|3-(2-chlorophenothiazin-10-yl)-N,N-dimethylpropan-1-amine;hydrochloride|LP00249|Promachel|SR-01000000012-9|3-(2-chloro-10H-phenothiazin-10-yl)-N,N-dimethylpropan-1-amine hydrochloride|CHLORPROMAZINE HYDROCHLORIDE [GREEN BOOK]|Prestwick_58</td></tr>\n",
       "</tbody>\n",
       "</table>\n"
      ],
      "text/latex": [
       "A data.frame: 1 × 3\n",
       "\\begin{tabular}{r|lll}\n",
       "  & name & class & synonyms\\\\\n",
       "  & <chr> & <chr> & <chr>\\\\\n",
       "\\hline\n",
       "\t39 & Chlorpromazine hydrochloride & chemical & 1329612-87-4\\textbar{}NSC 17479\\textbar{}DTXCID404827\\textbar{}Chlorpromazine hydrochloride, United States Pharmacopeia (USP) Reference Standard\\textbar{}CHLORPROMAZINE HYDROCHLORIDE {[}USP MONOGRAPH{]}\\textbar{}{[}3-(2-Chloro-10H-phenothiazin-10-yl)propyl{]}-dimethylamine hydrochloride\\textbar{}C17H19ClN2S.ClH\\textbar{}Tox21\\_500249\\textbar{}Chlorpromazine Hcl Intensol\\textbar{}CAS-69-09-0\\textbar{}Chlorpromazine, Hydrochloride\\textbar{}Chlorpromazine hydrochloride, >=98\\% (TLC)\\textbar{}C2481\\textbar{}C 8138\\textbar{}Propaphenin hydrochloride\\textbar{}69-09-0 (HCl)\\textbar{}NCGC00093711-02\\textbar{}Chlorpromazine hydrochloride {[}USAN:BAN:JAN{]}\\textbar{}Chloractil\\textbar{}CHLORPROMAZINE HYDROCHLORIDE {[}EP IMPURITY{]}\\textbar{}chlorpromazinhydrochlorid-\\textbar{}CHLORPROMAZINI HYDROCHLORIDUM {[}WHO-IP LATIN{]}\\textbar{}2-Chloro-10-(3-(dimethylamino)propyl)phenothiazine monohydrochloride\\textbar{}Phenothiazine hydrochloride\\textbar{}Chlorpromazine hydrochloride, meets USP testing specifications\\textbar{}10H-Phenothiazine-10-propanamine, 2-chloro-N,N-dimethyl-, hydrochloride (1:1)\\textbar{}NC00552\\textbar{}NCGC00093711-01\\textbar{}HY-B0407A\\textbar{}4560 Rp hydrochloride\\textbar{}AI3-28023\\textbar{}Z104477466\\textbar{}CHLORPROMAZINE HYDROCHLORIDE {[}USP-RS{]}\\textbar{}Chloropromazine hcl\\textbar{}Phenothiazine, 2-chloro-10-(3-(dimethylamino)propyl)-, monohydrochloride\\textbar{}s2456\\textbar{}2-Chloro-10-(3-dimethylaminopropyl)phenothiazine monohydrochloride\\textbar{}AKOS005111082\\textbar{}WLN: T C666 BN ISJ B3N1\\&1 EG \\&GH\\textbar{}CHLORPROMAZINE HYDROCHLORIDE {[}ORANGE BOOK{]}\\textbar{}Propaphen\\textbar{}MLS002222157\\textbar{}C-165\\textbar{}Fenactil monohydrochloride\\textbar{}10-(3-Dimethylaminopropyl)-2-chlorophenothiazine monohydrochloride\\textbar{}CHLORPROMAZINE HYDROCHLORIDE {[}JAN{]}\\textbar{}CHLORPROMAZINE HYDROCHLORIDE {[}WHO-IP{]}\\textbar{}{[}3-(2-chloro-10H-phenothiazin-10-yl)propyl{]}dimethylamine hydrochloride\\textbar{}Neurazine\\textbar{}Chlorpromazine Hcl\\textbar{}EU-0100249\\textbar{}69-09-0\\textbar{}UNII-9WP59609J6\\textbar{}Chlorpromazine, Hydrochloride - CAS 69-09-0\\textbar{}Aminazinum\\textbar{}BCP30284\\textbar{}Chlorpromazine hydrochloride, 98\\%\\textbar{}Chlorpromazini hydrochloridum\\textbar{}CHEBI:3649\\textbar{}AC-10573\\textbar{}Sonazine\\textbar{}Chlorpromazine hydrochloride {[}USP:BAN:JAN{]}\\textbar{}Chlorpromazine hydrochloride (JP17/USP)\\textbar{}D00789\\textbar{}Lomazine\\textbar{}Chlorpromazine (hydrochloride)\\textbar{}Chlorpromazine Hydrochloride Intensol\\textbar{}Chlorpromazine hydrochloride, European Pharmacopoeia (EP) Reference Standard\\textbar{}MLS000069401\\textbar{}2-Chloro-10-{[}3-(dimethylamino)propyl{]}phenothiazine monohydrochloride\\textbar{}CPZ (VAN)\\textbar{}Largaktyl\\textbar{}AC1LCWF1\\textbar{}SCHEMBL41771\\textbar{}Chlorpromazinium chloride\\textbar{}9WP59609J6\\textbar{}Promapar\\textbar{}7-{[}Diethylamino{]}coumarin-3-carbonylazide\\textbar{}SR-01000000012-2\\textbar{}Taroctyl\\textbar{}Opera\\_ID\\_1294\\textbar{}CHLOROPROMAZINE HYDROCHLORIDE\\textbar{}NCGC00260934-01\\textbar{}FT-0623715\\textbar{}CHLORPROMAZINE HYDROCHLORIDE {[}MART.{]}\\textbar{}Chlorpromazine Hydrochloride 1.0 mg/ml in Methanol (as free base)\\textbar{}Promacid\\textbar{}Chlorpromazine monohydrochloride\\textbar{}LS-1585\\textbar{}NCGC00180973-01\\textbar{}Hebanil\\textbar{}HMS1568M09\\textbar{}MLS-0090820.0001\\textbar{}Q27106159\\textbar{}Klorpromex\\textbar{}CCRIS 6221\\textbar{}Klorproman\\textbar{}Marazine\\textbar{}D89519\\textbar{}Q-200842\\textbar{}NSC-17479\\textbar{}2-Chloro-10-(3-dimethylaminopropyl)phenothiazine hydrochloride\\textbar{}SR-01000000012\\textbar{}Tox21\\_300517\\textbar{}10H-phenothiazine-10-propanamine hydrochloride, 2-chloro-N,N-dimethyl-\\textbar{}Unitensen\\textbar{}Hibanil\\textbar{}CHLORPROMAZINE HYDROCHLORIDE {[}EP MONOGRAPH{]}\\textbar{}3-(2-chlorophenothiazin-10-yl)-N,N-dimethylpropan-1-amine;hydrochloride.\\textbar{}Aminazinum (for the hydrochloride)\\textbar{}Promexin\\textbar{}EINECS 200-701-3\\textbar{}Chlorpromazine chloride\\textbar{}NSC226514\\textbar{}CHLORPROMAZINE HYDROCHLORIDE {[}WHO-DD{]}\\textbar{}Chlorpromazine hydrochloride, VETRANAL(TM), analytical standard\\textbar{}C07952\\textbar{}Chloropromazin hydrochloride\\textbar{}Ampliactil monohydrochloride\\textbar{}2-chloro-10-(3-dimethylaminopropyl) phenothiazine hydrochloride\\textbar{}Thorazine hydrochloride\\textbar{}EN300-20245\\textbar{}CCG-221553\\textbar{}Chlorpromazine hydrochloride\\textbar{}Megatil\\textbar{}NCI-C05210\\textbar{}CHLORPROMAZINE HYDROCHLORIDE {[}VANDF{]}\\textbar{}DTXSID7024827\\textbar{}FBSMERQALIEGJT-UHFFFAOYSA-N\\textbar{}NCGC00024409-09\\textbar{}CHLORPROMAZINE HYDROCHLORIDE {[}MI{]}\\textbar{}Tranzine\\textbar{}Contomin hydrochloride\\textbar{}CCG-220064\\textbar{}SW196373-5\\textbar{}Chloropromazine monohydrochloride\\textbar{}SMR000058254\\textbar{}FT-0665009\\textbar{}CHEMBL1713\\textbar{}NCGC00254272-01\\textbar{}MFCD00012654\\textbar{}Chlorpromazine-13C,d3 Hydrochloride\\textbar{}NSC17479\\textbar{}2-Chloro-10-{[}3-(dimethylamino)-1-propyl{]}phenothiazine Hydrochloride\\textbar{}Chlorpromazin-d6 hydrochloride\\textbar{}Norcozine\\textbar{}Megaphen hydrochloride\\textbar{}Aminazin monohydrochloride\\textbar{}Hybernal\\textbar{}Sonazine (TN)\\textbar{}MLS001148603\\textbar{}Plegomazin\\textbar{}Largactil monohydrochloride\\textbar{}10H-Phenothiazine-10-propanamine, 2-chloro-N,N-dimethyl-, monohydrochloride\\textbar{}3-(2-chlorophenothiazin-10-yl)-N,N-dimethylpropan-1-amine;hydrochloride\\textbar{}LP00249\\textbar{}Promachel\\textbar{}SR-01000000012-9\\textbar{}3-(2-chloro-10H-phenothiazin-10-yl)-N,N-dimethylpropan-1-amine hydrochloride\\textbar{}CHLORPROMAZINE HYDROCHLORIDE {[}GREEN BOOK{]}\\textbar{}Prestwick\\_58\\\\\n",
       "\\end{tabular}\n"
      ],
      "text/markdown": [
       "\n",
       "A data.frame: 1 × 3\n",
       "\n",
       "| <!--/--> | name &lt;chr&gt; | class &lt;chr&gt; | synonyms &lt;chr&gt; |\n",
       "|---|---|---|---|\n",
       "| 39 | Chlorpromazine hydrochloride | chemical | 1329612-87-4|NSC 17479|DTXCID404827|Chlorpromazine hydrochloride, United States Pharmacopeia (USP) Reference Standard|CHLORPROMAZINE HYDROCHLORIDE [USP MONOGRAPH]|[3-(2-Chloro-10H-phenothiazin-10-yl)propyl]-dimethylamine hydrochloride|C17H19ClN2S.ClH|Tox21_500249|Chlorpromazine Hcl Intensol|CAS-69-09-0|Chlorpromazine, Hydrochloride|Chlorpromazine hydrochloride, &gt;=98% (TLC)|C2481|C 8138|Propaphenin hydrochloride|69-09-0 (HCl)|NCGC00093711-02|Chlorpromazine hydrochloride [USAN:BAN:JAN]|Chloractil|CHLORPROMAZINE HYDROCHLORIDE [EP IMPURITY]|chlorpromazinhydrochlorid-|CHLORPROMAZINI HYDROCHLORIDUM [WHO-IP LATIN]|2-Chloro-10-(3-(dimethylamino)propyl)phenothiazine monohydrochloride|Phenothiazine hydrochloride|Chlorpromazine hydrochloride, meets USP testing specifications|10H-Phenothiazine-10-propanamine, 2-chloro-N,N-dimethyl-, hydrochloride (1:1)|NC00552|NCGC00093711-01|HY-B0407A|4560 Rp hydrochloride|AI3-28023|Z104477466|CHLORPROMAZINE HYDROCHLORIDE [USP-RS]|Chloropromazine hcl|Phenothiazine, 2-chloro-10-(3-(dimethylamino)propyl)-, monohydrochloride|s2456|2-Chloro-10-(3-dimethylaminopropyl)phenothiazine monohydrochloride|AKOS005111082|WLN: T C666 BN ISJ B3N1&amp;1 EG &amp;GH|CHLORPROMAZINE HYDROCHLORIDE [ORANGE BOOK]|Propaphen|MLS002222157|C-165|Fenactil monohydrochloride|10-(3-Dimethylaminopropyl)-2-chlorophenothiazine monohydrochloride|CHLORPROMAZINE HYDROCHLORIDE [JAN]|CHLORPROMAZINE HYDROCHLORIDE [WHO-IP]|[3-(2-chloro-10H-phenothiazin-10-yl)propyl]dimethylamine hydrochloride|Neurazine|Chlorpromazine Hcl|EU-0100249|69-09-0|UNII-9WP59609J6|Chlorpromazine, Hydrochloride - CAS 69-09-0|Aminazinum|BCP30284|Chlorpromazine hydrochloride, 98%|Chlorpromazini hydrochloridum|CHEBI:3649|AC-10573|Sonazine|Chlorpromazine hydrochloride [USP:BAN:JAN]|Chlorpromazine hydrochloride (JP17/USP)|D00789|Lomazine|Chlorpromazine (hydrochloride)|Chlorpromazine Hydrochloride Intensol|Chlorpromazine hydrochloride, European Pharmacopoeia (EP) Reference Standard|MLS000069401|2-Chloro-10-[3-(dimethylamino)propyl]phenothiazine monohydrochloride|CPZ (VAN)|Largaktyl|AC1LCWF1|SCHEMBL41771|Chlorpromazinium chloride|9WP59609J6|Promapar|7-[Diethylamino]coumarin-3-carbonylazide|SR-01000000012-2|Taroctyl|Opera_ID_1294|CHLOROPROMAZINE HYDROCHLORIDE|NCGC00260934-01|FT-0623715|CHLORPROMAZINE HYDROCHLORIDE [MART.]|Chlorpromazine Hydrochloride 1.0 mg/ml in Methanol (as free base)|Promacid|Chlorpromazine monohydrochloride|LS-1585|NCGC00180973-01|Hebanil|HMS1568M09|MLS-0090820.0001|Q27106159|Klorpromex|CCRIS 6221|Klorproman|Marazine|D89519|Q-200842|NSC-17479|2-Chloro-10-(3-dimethylaminopropyl)phenothiazine hydrochloride|SR-01000000012|Tox21_300517|10H-phenothiazine-10-propanamine hydrochloride, 2-chloro-N,N-dimethyl-|Unitensen|Hibanil|CHLORPROMAZINE HYDROCHLORIDE [EP MONOGRAPH]|3-(2-chlorophenothiazin-10-yl)-N,N-dimethylpropan-1-amine;hydrochloride.|Aminazinum (for the hydrochloride)|Promexin|EINECS 200-701-3|Chlorpromazine chloride|NSC226514|CHLORPROMAZINE HYDROCHLORIDE [WHO-DD]|Chlorpromazine hydrochloride, VETRANAL(TM), analytical standard|C07952|Chloropromazin hydrochloride|Ampliactil monohydrochloride|2-chloro-10-(3-dimethylaminopropyl) phenothiazine hydrochloride|Thorazine hydrochloride|EN300-20245|CCG-221553|Chlorpromazine hydrochloride|Megatil|NCI-C05210|CHLORPROMAZINE HYDROCHLORIDE [VANDF]|DTXSID7024827|FBSMERQALIEGJT-UHFFFAOYSA-N|NCGC00024409-09|CHLORPROMAZINE HYDROCHLORIDE [MI]|Tranzine|Contomin hydrochloride|CCG-220064|SW196373-5|Chloropromazine monohydrochloride|SMR000058254|FT-0665009|CHEMBL1713|NCGC00254272-01|MFCD00012654|Chlorpromazine-13C,d3 Hydrochloride|NSC17479|2-Chloro-10-[3-(dimethylamino)-1-propyl]phenothiazine Hydrochloride|Chlorpromazin-d6 hydrochloride|Norcozine|Megaphen hydrochloride|Aminazin monohydrochloride|Hybernal|Sonazine (TN)|MLS001148603|Plegomazin|Largactil monohydrochloride|10H-Phenothiazine-10-propanamine, 2-chloro-N,N-dimethyl-, monohydrochloride|3-(2-chlorophenothiazin-10-yl)-N,N-dimethylpropan-1-amine;hydrochloride|LP00249|Promachel|SR-01000000012-9|3-(2-chloro-10H-phenothiazin-10-yl)-N,N-dimethylpropan-1-amine hydrochloride|CHLORPROMAZINE HYDROCHLORIDE [GREEN BOOK]|Prestwick_58 |\n",
       "\n"
      ],
      "text/plain": [
       "   name                         class   \n",
       "39 Chlorpromazine hydrochloride chemical\n",
       "   synonyms                                                                                                                                                                                                                                                                                                                                                                                                                                                                                                                                                                                                                                                                                                                                                                                                                                                                                                                                                                                                                                                                                                                                                                                                                                                                                                                                                                                                                                                                                                                                                                                                                                                                                                                                                                                                                                                                                                                                                                                                                                                                                                                                                                                                                                                                                                                                                                                                                                                                                                                                                                                                                                                                                                                                                                                                                                                                                                                                                                                                                                                                                                                                                                                                                                                                                                                                                                                                                                                                                                                                                                                                                                                                                                                                                                                                                                                                                                                                                                                                                                                                                                                                                                                                                                                                                                    \n",
       "39 1329612-87-4|NSC 17479|DTXCID404827|Chlorpromazine hydrochloride, United States Pharmacopeia (USP) Reference Standard|CHLORPROMAZINE HYDROCHLORIDE [USP MONOGRAPH]|[3-(2-Chloro-10H-phenothiazin-10-yl)propyl]-dimethylamine hydrochloride|C17H19ClN2S.ClH|Tox21_500249|Chlorpromazine Hcl Intensol|CAS-69-09-0|Chlorpromazine, Hydrochloride|Chlorpromazine hydrochloride, >=98% (TLC)|C2481|C 8138|Propaphenin hydrochloride|69-09-0 (HCl)|NCGC00093711-02|Chlorpromazine hydrochloride [USAN:BAN:JAN]|Chloractil|CHLORPROMAZINE HYDROCHLORIDE [EP IMPURITY]|chlorpromazinhydrochlorid-|CHLORPROMAZINI HYDROCHLORIDUM [WHO-IP LATIN]|2-Chloro-10-(3-(dimethylamino)propyl)phenothiazine monohydrochloride|Phenothiazine hydrochloride|Chlorpromazine hydrochloride, meets USP testing specifications|10H-Phenothiazine-10-propanamine, 2-chloro-N,N-dimethyl-, hydrochloride (1:1)|NC00552|NCGC00093711-01|HY-B0407A|4560 Rp hydrochloride|AI3-28023|Z104477466|CHLORPROMAZINE HYDROCHLORIDE [USP-RS]|Chloropromazine hcl|Phenothiazine, 2-chloro-10-(3-(dimethylamino)propyl)-, monohydrochloride|s2456|2-Chloro-10-(3-dimethylaminopropyl)phenothiazine monohydrochloride|AKOS005111082|WLN: T C666 BN ISJ B3N1&1 EG &GH|CHLORPROMAZINE HYDROCHLORIDE [ORANGE BOOK]|Propaphen|MLS002222157|C-165|Fenactil monohydrochloride|10-(3-Dimethylaminopropyl)-2-chlorophenothiazine monohydrochloride|CHLORPROMAZINE HYDROCHLORIDE [JAN]|CHLORPROMAZINE HYDROCHLORIDE [WHO-IP]|[3-(2-chloro-10H-phenothiazin-10-yl)propyl]dimethylamine hydrochloride|Neurazine|Chlorpromazine Hcl|EU-0100249|69-09-0|UNII-9WP59609J6|Chlorpromazine, Hydrochloride - CAS 69-09-0|Aminazinum|BCP30284|Chlorpromazine hydrochloride, 98%|Chlorpromazini hydrochloridum|CHEBI:3649|AC-10573|Sonazine|Chlorpromazine hydrochloride [USP:BAN:JAN]|Chlorpromazine hydrochloride (JP17/USP)|D00789|Lomazine|Chlorpromazine (hydrochloride)|Chlorpromazine Hydrochloride Intensol|Chlorpromazine hydrochloride, European Pharmacopoeia (EP) Reference Standard|MLS000069401|2-Chloro-10-[3-(dimethylamino)propyl]phenothiazine monohydrochloride|CPZ (VAN)|Largaktyl|AC1LCWF1|SCHEMBL41771|Chlorpromazinium chloride|9WP59609J6|Promapar|7-[Diethylamino]coumarin-3-carbonylazide|SR-01000000012-2|Taroctyl|Opera_ID_1294|CHLOROPROMAZINE HYDROCHLORIDE|NCGC00260934-01|FT-0623715|CHLORPROMAZINE HYDROCHLORIDE [MART.]|Chlorpromazine Hydrochloride 1.0 mg/ml in Methanol (as free base)|Promacid|Chlorpromazine monohydrochloride|LS-1585|NCGC00180973-01|Hebanil|HMS1568M09|MLS-0090820.0001|Q27106159|Klorpromex|CCRIS 6221|Klorproman|Marazine|D89519|Q-200842|NSC-17479|2-Chloro-10-(3-dimethylaminopropyl)phenothiazine hydrochloride|SR-01000000012|Tox21_300517|10H-phenothiazine-10-propanamine hydrochloride, 2-chloro-N,N-dimethyl-|Unitensen|Hibanil|CHLORPROMAZINE HYDROCHLORIDE [EP MONOGRAPH]|3-(2-chlorophenothiazin-10-yl)-N,N-dimethylpropan-1-amine;hydrochloride.|Aminazinum (for the hydrochloride)|Promexin|EINECS 200-701-3|Chlorpromazine chloride|NSC226514|CHLORPROMAZINE HYDROCHLORIDE [WHO-DD]|Chlorpromazine hydrochloride, VETRANAL(TM), analytical standard|C07952|Chloropromazin hydrochloride|Ampliactil monohydrochloride|2-chloro-10-(3-dimethylaminopropyl) phenothiazine hydrochloride|Thorazine hydrochloride|EN300-20245|CCG-221553|Chlorpromazine hydrochloride|Megatil|NCI-C05210|CHLORPROMAZINE HYDROCHLORIDE [VANDF]|DTXSID7024827|FBSMERQALIEGJT-UHFFFAOYSA-N|NCGC00024409-09|CHLORPROMAZINE HYDROCHLORIDE [MI]|Tranzine|Contomin hydrochloride|CCG-220064|SW196373-5|Chloropromazine monohydrochloride|SMR000058254|FT-0665009|CHEMBL1713|NCGC00254272-01|MFCD00012654|Chlorpromazine-13C,d3 Hydrochloride|NSC17479|2-Chloro-10-[3-(dimethylamino)-1-propyl]phenothiazine Hydrochloride|Chlorpromazin-d6 hydrochloride|Norcozine|Megaphen hydrochloride|Aminazin monohydrochloride|Hybernal|Sonazine (TN)|MLS001148603|Plegomazin|Largactil monohydrochloride|10H-Phenothiazine-10-propanamine, 2-chloro-N,N-dimethyl-, monohydrochloride|3-(2-chlorophenothiazin-10-yl)-N,N-dimethylpropan-1-amine;hydrochloride|LP00249|Promachel|SR-01000000012-9|3-(2-chloro-10H-phenothiazin-10-yl)-N,N-dimethylpropan-1-amine hydrochloride|CHLORPROMAZINE HYDROCHLORIDE [GREEN BOOK]|Prestwick_58"
      ]
     },
     "metadata": {},
     "output_type": "display_data"
    }
   ],
   "source": [
    "Chems[sample(1:nrow(Chems),1),]"
   ]
  },
  {
   "cell_type": "code",
   "execution_count": 7,
   "id": "9f28e9f6-85c6-401e-a669-de0facfae142",
   "metadata": {},
   "outputs": [],
   "source": [
    "create_entity_from_row <- function(row) {\n",
    "  list(\n",
    "    name = row[\"name\"],\n",
    "    class = row[\"class\"],\n",
    "    synonyms = strsplit(row[\"synonyms\"], \"\\\\|\")[[1]]  # Split synonyms by '|'\n",
    "  )\n",
    "}\n"
   ]
  },
  {
   "cell_type": "code",
   "execution_count": 8,
   "id": "ee6cbd6f-5296-4651-bd5a-5649f9cab906",
   "metadata": {},
   "outputs": [],
   "source": [
    "chem_ents <- apply(Chems, 1, create_entity_from_row)"
   ]
  },
  {
   "cell_type": "markdown",
   "id": "f9933bd8-bab3-4f57-9552-b43cd51c72dd",
   "metadata": {},
   "source": [
    "2. Load diseases"
   ]
  },
  {
   "cell_type": "code",
   "execution_count": 9,
   "id": "764fc1f0-e839-43eb-aaf6-794836446379",
   "metadata": {},
   "outputs": [],
   "source": [
    "Diseases <- read.csv(\"../data/disease.tsv\",sep='\\t',quote=\"\\\"\")"
   ]
  },
  {
   "cell_type": "code",
   "execution_count": 10,
   "id": "33d31964-a09b-454f-86ba-69085b1de4c8",
   "metadata": {},
   "outputs": [
    {
     "data": {
      "text/html": [
       "<table class=\"dataframe\">\n",
       "<caption>A data.frame: 5 × 4</caption>\n",
       "<thead>\n",
       "\t<tr><th scope=col>name</th><th scope=col>class</th><th scope=col>synonyms</th><th scope=col>Synonyms</th></tr>\n",
       "\t<tr><th scope=col>&lt;chr&gt;</th><th scope=col>&lt;chr&gt;</th><th scope=col>&lt;chr&gt;</th><th scope=col>&lt;chr&gt;</th></tr>\n",
       "</thead>\n",
       "<tbody>\n",
       "\t<tr><td>Parkinson's Disease</td><td>disease</td><td>Parkinson|Parkinson's Disease|Shaking Palsy|Paralysis Agitans|Substantia Nigra Degeneration</td><td>['Shaking Palsy', 'Paralysis Agitans', 'Substantia Nigra Degeneration']</td></tr>\n",
       "\t<tr><td>Alzheimer's Disease</td><td>disease</td><td>Alzheimer's Disease|Senile Dementia|Alzheimer's Dementia|Memory Loss                       </td><td>['Senile Dementia', \"Alzheimer's Dementia\", 'Memory Loss']             </td></tr>\n",
       "\t<tr><td>Multiple Sclerosis </td><td>disease</td><td>Multiple Sclerosis|MS|Disseminated Sclerosis|Multiple Sclerosis                            </td><td>['MS', 'Disseminated Sclerosis', 'Multiple Sclerosis']                 </td></tr>\n",
       "\t<tr><td>Diabetes           </td><td>disease</td><td>Diabetes|Diabetes Mellitus|Sugar Diabetes|Hyperglycemia                                    </td><td>['Diabetes Mellitus', 'Sugar Diabetes', 'Hyperglycemia']               </td></tr>\n",
       "\t<tr><td>Heart Disease      </td><td>disease</td><td>Heart Disease|Coronary Artery Disease|Cardiovascular Disease|Heart Attack                  </td><td>['Coronary Artery Disease', 'Cardiovascular Disease', 'Heart Attack']  </td></tr>\n",
       "</tbody>\n",
       "</table>\n"
      ],
      "text/latex": [
       "A data.frame: 5 × 4\n",
       "\\begin{tabular}{llll}\n",
       " name & class & synonyms & Synonyms\\\\\n",
       " <chr> & <chr> & <chr> & <chr>\\\\\n",
       "\\hline\n",
       "\t Parkinson's Disease & disease & Parkinson\\textbar{}Parkinson's Disease\\textbar{}Shaking Palsy\\textbar{}Paralysis Agitans\\textbar{}Substantia Nigra Degeneration & {[}'Shaking Palsy', 'Paralysis Agitans', 'Substantia Nigra Degeneration'{]}\\\\\n",
       "\t Alzheimer's Disease & disease & Alzheimer's Disease\\textbar{}Senile Dementia\\textbar{}Alzheimer's Dementia\\textbar{}Memory Loss                        & {[}'Senile Dementia', \"Alzheimer's Dementia\", 'Memory Loss'{]}             \\\\\n",
       "\t Multiple Sclerosis  & disease & Multiple Sclerosis\\textbar{}MS\\textbar{}Disseminated Sclerosis\\textbar{}Multiple Sclerosis                             & {[}'MS', 'Disseminated Sclerosis', 'Multiple Sclerosis'{]}                 \\\\\n",
       "\t Diabetes            & disease & Diabetes\\textbar{}Diabetes Mellitus\\textbar{}Sugar Diabetes\\textbar{}Hyperglycemia                                     & {[}'Diabetes Mellitus', 'Sugar Diabetes', 'Hyperglycemia'{]}               \\\\\n",
       "\t Heart Disease       & disease & Heart Disease\\textbar{}Coronary Artery Disease\\textbar{}Cardiovascular Disease\\textbar{}Heart Attack                   & {[}'Coronary Artery Disease', 'Cardiovascular Disease', 'Heart Attack'{]}  \\\\\n",
       "\\end{tabular}\n"
      ],
      "text/markdown": [
       "\n",
       "A data.frame: 5 × 4\n",
       "\n",
       "| name &lt;chr&gt; | class &lt;chr&gt; | synonyms &lt;chr&gt; | Synonyms &lt;chr&gt; |\n",
       "|---|---|---|---|\n",
       "| Parkinson's Disease | disease | Parkinson|Parkinson's Disease|Shaking Palsy|Paralysis Agitans|Substantia Nigra Degeneration | ['Shaking Palsy', 'Paralysis Agitans', 'Substantia Nigra Degeneration'] |\n",
       "| Alzheimer's Disease | disease | Alzheimer's Disease|Senile Dementia|Alzheimer's Dementia|Memory Loss                        | ['Senile Dementia', \"Alzheimer's Dementia\", 'Memory Loss']              |\n",
       "| Multiple Sclerosis  | disease | Multiple Sclerosis|MS|Disseminated Sclerosis|Multiple Sclerosis                             | ['MS', 'Disseminated Sclerosis', 'Multiple Sclerosis']                  |\n",
       "| Diabetes            | disease | Diabetes|Diabetes Mellitus|Sugar Diabetes|Hyperglycemia                                     | ['Diabetes Mellitus', 'Sugar Diabetes', 'Hyperglycemia']                |\n",
       "| Heart Disease       | disease | Heart Disease|Coronary Artery Disease|Cardiovascular Disease|Heart Attack                   | ['Coronary Artery Disease', 'Cardiovascular Disease', 'Heart Attack']   |\n",
       "\n"
      ],
      "text/plain": [
       "  name                class  \n",
       "1 Parkinson's Disease disease\n",
       "2 Alzheimer's Disease disease\n",
       "3 Multiple Sclerosis  disease\n",
       "4 Diabetes            disease\n",
       "5 Heart Disease       disease\n",
       "  synonyms                                                                                   \n",
       "1 Parkinson|Parkinson's Disease|Shaking Palsy|Paralysis Agitans|Substantia Nigra Degeneration\n",
       "2 Alzheimer's Disease|Senile Dementia|Alzheimer's Dementia|Memory Loss                       \n",
       "3 Multiple Sclerosis|MS|Disseminated Sclerosis|Multiple Sclerosis                            \n",
       "4 Diabetes|Diabetes Mellitus|Sugar Diabetes|Hyperglycemia                                    \n",
       "5 Heart Disease|Coronary Artery Disease|Cardiovascular Disease|Heart Attack                  \n",
       "  Synonyms                                                               \n",
       "1 ['Shaking Palsy', 'Paralysis Agitans', 'Substantia Nigra Degeneration']\n",
       "2 ['Senile Dementia', \"Alzheimer's Dementia\", 'Memory Loss']             \n",
       "3 ['MS', 'Disseminated Sclerosis', 'Multiple Sclerosis']                 \n",
       "4 ['Diabetes Mellitus', 'Sugar Diabetes', 'Hyperglycemia']               \n",
       "5 ['Coronary Artery Disease', 'Cardiovascular Disease', 'Heart Attack']  "
      ]
     },
     "metadata": {},
     "output_type": "display_data"
    }
   ],
   "source": [
    "Diseases"
   ]
  },
  {
   "cell_type": "code",
   "execution_count": 11,
   "id": "d7ea5f8d-0cbc-4220-845a-a4bfcda8a0a4",
   "metadata": {},
   "outputs": [],
   "source": [
    "dis_ents <- apply(Diseases, 1, create_entity_from_row)"
   ]
  },
  {
   "cell_type": "markdown",
   "id": "8784a07b-ff5b-4658-8a61-6ea50456015d",
   "metadata": {},
   "source": [
    "3. Count all cooccurrences"
   ]
  },
  {
   "cell_type": "code",
   "execution_count": 47,
   "id": "a65163ec-895f-4f1b-ad4d-32b99c32dbfe",
   "metadata": {},
   "outputs": [],
   "source": [
    "R1 <- find_rels(chem_ents[20:30],dis_ents,RM0)"
   ]
  },
  {
   "cell_type": "code",
   "execution_count": 56,
   "id": "424c3be6-8973-4258-bca9-d3a70434f68c",
   "metadata": {},
   "outputs": [
    {
     "data": {
      "text/html": [
       "<table class=\"dataframe\">\n",
       "<caption>A data.frame: 6 × 10</caption>\n",
       "<thead>\n",
       "\t<tr><th></th><th scope=col>term_a</th><th scope=col>term_b</th><th scope=col>class_a</th><th scope=col>class_b</th><th scope=col>count_a</th><th scope=col>count_b</th><th scope=col>count_ab</th><th scope=col>count_docs</th><th scope=col>pmi</th><th scope=col>npmi</th></tr>\n",
       "\t<tr><th></th><th scope=col>&lt;chr&gt;</th><th scope=col>&lt;chr&gt;</th><th scope=col>&lt;chr&gt;</th><th scope=col>&lt;chr&gt;</th><th scope=col>&lt;int&gt;</th><th scope=col>&lt;int&gt;</th><th scope=col>&lt;int&gt;</th><th scope=col>&lt;int&gt;</th><th scope=col>&lt;dbl&gt;</th><th scope=col>&lt;dbl&gt;</th></tr>\n",
       "</thead>\n",
       "<tbody>\n",
       "\t<tr><th scope=row>name</th><td>Ethylene thiourea </td><td>Parkinson's Disease</td><td>chemical</td><td>disease</td><td>  277</td><td>92166</td><td>  1</td><td>20688473</td><td>-0.3033654</td><td>-0.01248298</td></tr>\n",
       "\t<tr><th scope=row>name1</th><td>Cyfluthrin        </td><td>Parkinson's Disease</td><td>chemical</td><td>disease</td><td>  611</td><td>92166</td><td>  0</td><td>20688473</td><td> 0.0000000</td><td> 0.00000000</td></tr>\n",
       "\t<tr><th scope=row>name2</th><td>Tretinoin         </td><td>Parkinson's Disease</td><td>chemical</td><td>disease</td><td>23805</td><td>92166</td><td>126</td><td>20688473</td><td> 0.2486797</td><td> 0.01435377</td></tr>\n",
       "\t<tr><th scope=row>name3</th><td>Diethylstilbestrol</td><td>Parkinson's Disease</td><td>chemical</td><td>disease</td><td> 2295</td><td>92166</td><td>  3</td><td>20688473</td><td>-1.7689391</td><td>-0.07786728</td></tr>\n",
       "\t<tr><th scope=row>name4</th><td>Dieldrin          </td><td>Parkinson's Disease</td><td>chemical</td><td>disease</td><td> 1364</td><td>92166</td><td> 49</td><td>20688473</td><td> 3.0114587</td><td> 0.16114731</td></tr>\n",
       "\t<tr><th scope=row>name5</th><td>Flubendiamide     </td><td>Parkinson's Disease</td><td>chemical</td><td>disease</td><td>  174</td><td>92166</td><td>  0</td><td>20688473</td><td> 0.0000000</td><td> 0.00000000</td></tr>\n",
       "</tbody>\n",
       "</table>\n"
      ],
      "text/latex": [
       "A data.frame: 6 × 10\n",
       "\\begin{tabular}{r|llllllllll}\n",
       "  & term\\_a & term\\_b & class\\_a & class\\_b & count\\_a & count\\_b & count\\_ab & count\\_docs & pmi & npmi\\\\\n",
       "  & <chr> & <chr> & <chr> & <chr> & <int> & <int> & <int> & <int> & <dbl> & <dbl>\\\\\n",
       "\\hline\n",
       "\tname & Ethylene thiourea  & Parkinson's Disease & chemical & disease &   277 & 92166 &   1 & 20688473 & -0.3033654 & -0.01248298\\\\\n",
       "\tname1 & Cyfluthrin         & Parkinson's Disease & chemical & disease &   611 & 92166 &   0 & 20688473 &  0.0000000 &  0.00000000\\\\\n",
       "\tname2 & Tretinoin          & Parkinson's Disease & chemical & disease & 23805 & 92166 & 126 & 20688473 &  0.2486797 &  0.01435377\\\\\n",
       "\tname3 & Diethylstilbestrol & Parkinson's Disease & chemical & disease &  2295 & 92166 &   3 & 20688473 & -1.7689391 & -0.07786728\\\\\n",
       "\tname4 & Dieldrin           & Parkinson's Disease & chemical & disease &  1364 & 92166 &  49 & 20688473 &  3.0114587 &  0.16114731\\\\\n",
       "\tname5 & Flubendiamide      & Parkinson's Disease & chemical & disease &   174 & 92166 &   0 & 20688473 &  0.0000000 &  0.00000000\\\\\n",
       "\\end{tabular}\n"
      ],
      "text/markdown": [
       "\n",
       "A data.frame: 6 × 10\n",
       "\n",
       "| <!--/--> | term_a &lt;chr&gt; | term_b &lt;chr&gt; | class_a &lt;chr&gt; | class_b &lt;chr&gt; | count_a &lt;int&gt; | count_b &lt;int&gt; | count_ab &lt;int&gt; | count_docs &lt;int&gt; | pmi &lt;dbl&gt; | npmi &lt;dbl&gt; |\n",
       "|---|---|---|---|---|---|---|---|---|---|---|\n",
       "| name | Ethylene thiourea  | Parkinson's Disease | chemical | disease |   277 | 92166 |   1 | 20688473 | -0.3033654 | -0.01248298 |\n",
       "| name1 | Cyfluthrin         | Parkinson's Disease | chemical | disease |   611 | 92166 |   0 | 20688473 |  0.0000000 |  0.00000000 |\n",
       "| name2 | Tretinoin          | Parkinson's Disease | chemical | disease | 23805 | 92166 | 126 | 20688473 |  0.2486797 |  0.01435377 |\n",
       "| name3 | Diethylstilbestrol | Parkinson's Disease | chemical | disease |  2295 | 92166 |   3 | 20688473 | -1.7689391 | -0.07786728 |\n",
       "| name4 | Dieldrin           | Parkinson's Disease | chemical | disease |  1364 | 92166 |  49 | 20688473 |  3.0114587 |  0.16114731 |\n",
       "| name5 | Flubendiamide      | Parkinson's Disease | chemical | disease |   174 | 92166 |   0 | 20688473 |  0.0000000 |  0.00000000 |\n",
       "\n"
      ],
      "text/plain": [
       "      term_a             term_b              class_a  class_b count_a count_b\n",
       "name  Ethylene thiourea  Parkinson's Disease chemical disease   277   92166  \n",
       "name1 Cyfluthrin         Parkinson's Disease chemical disease   611   92166  \n",
       "name2 Tretinoin          Parkinson's Disease chemical disease 23805   92166  \n",
       "name3 Diethylstilbestrol Parkinson's Disease chemical disease  2295   92166  \n",
       "name4 Dieldrin           Parkinson's Disease chemical disease  1364   92166  \n",
       "name5 Flubendiamide      Parkinson's Disease chemical disease   174   92166  \n",
       "      count_ab count_docs pmi        npmi       \n",
       "name    1      20688473   -0.3033654 -0.01248298\n",
       "name1   0      20688473    0.0000000  0.00000000\n",
       "name2 126      20688473    0.2486797  0.01435377\n",
       "name3   3      20688473   -1.7689391 -0.07786728\n",
       "name4  49      20688473    3.0114587  0.16114731\n",
       "name5   0      20688473    0.0000000  0.00000000"
      ]
     },
     "metadata": {},
     "output_type": "display_data"
    }
   ],
   "source": [
    "head(R1)"
   ]
  },
  {
   "cell_type": "markdown",
   "id": "f3b34832-1263-45e3-90f8-44cc53d3fe90",
   "metadata": {},
   "source": [
    "4. Visualize the distribution of hits by disease"
   ]
  },
  {
   "cell_type": "code",
   "execution_count": 53,
   "id": "33b70fc1-924f-4546-9a3b-8a8cd1577e72",
   "metadata": {},
   "outputs": [
    {
     "name": "stderr",
     "output_type": "stream",
     "text": [
      "Warning message:\n",
      "“\u001b[1m\u001b[22mRemoved 10 rows containing missing values or values outside the scale range\n",
      "(`geom_bar()`).”\n"
     ]
    },
    {
     "data": {
      "image/png": "[encoded data removed]",
      "text/plain": [
       "plot without title"
      ]
     },
     "metadata": {
      "image/png": {
       "height": 420,
       "width": 420
      }
     },
     "output_type": "display_data"
    }
   ],
   "source": [
    "library(ggplot2)\n",
    "\n",
    "# Assuming your data.frame is named df, which contains the columns as described\n",
    "\n",
    "# Create the ggplot with fixed number of bins and x-axis range from -1 to 1\n",
    "ggplot(R1, aes(x = npmi)) +\n",
    "  geom_histogram(bins = 30, fill = \"skyblue\", color = \"black\", alpha = 0.7) +  # 30 bins, adjust as needed\n",
    "  facet_wrap(~ term_b, scales = \"free_y\") +  # Facet by term_b, free y-axis scaling\n",
    "  scale_x_continuous(limits = c(-0.25, 0.25)) +  # Set x-axis range from -1 to 1\n",
    "  labs(title = \"Distribution of NPMI by Term B\",\n",
    "       x = \"NPMI\",\n",
    "       y = \"Count\") +\n",
    "  theme_minimal() +\n",
    "  theme(strip.text = element_text(size = 12))  # Customize facet label size\n"
   ]
  },
  {
   "cell_type": "markdown",
   "id": "abe4119e-eab8-4afd-9893-66c71f492e38",
   "metadata": {},
   "source": [
    "5. Pick the top hits for each disease"
   ]
  },
  {
   "cell_type": "code",
   "execution_count": 58,
   "id": "51e467f9-8090-4593-a68c-7e1864203829",
   "metadata": {},
   "outputs": [
    {
     "data": {
      "text/html": [
       "<table class=\"dataframe\">\n",
       "<caption>A data.frame: 8 × 10</caption>\n",
       "<thead>\n",
       "\t<tr><th></th><th scope=col>term_a</th><th scope=col>term_b</th><th scope=col>class_a</th><th scope=col>class_b</th><th scope=col>count_a</th><th scope=col>count_b</th><th scope=col>count_ab</th><th scope=col>count_docs</th><th scope=col>pmi</th><th scope=col>npmi</th></tr>\n",
       "\t<tr><th></th><th scope=col>&lt;chr&gt;</th><th scope=col>&lt;chr&gt;</th><th scope=col>&lt;chr&gt;</th><th scope=col>&lt;chr&gt;</th><th scope=col>&lt;int&gt;</th><th scope=col>&lt;int&gt;</th><th scope=col>&lt;int&gt;</th><th scope=col>&lt;int&gt;</th><th scope=col>&lt;dbl&gt;</th><th scope=col>&lt;dbl&gt;</th></tr>\n",
       "</thead>\n",
       "<tbody>\n",
       "\t<tr><th scope=row>name4</th><td>Dieldrin         </td><td>Parkinson's Disease</td><td>chemical</td><td>disease</td><td>1364</td><td> 92166</td><td>49</td><td>20688473</td><td>3.011459</td><td>0.1611473</td></tr>\n",
       "\t<tr><th scope=row>name10</th><td>Buspirone        </td><td>Parkinson's Disease</td><td>chemical</td><td>disease</td><td>1199</td><td> 92166</td><td>32</td><td>20688473</td><td>2.582761</td><td>0.1338057</td></tr>\n",
       "\t<tr><th scope=row>name22</th><td>Ethylene thiourea</td><td>Multiple Sclerosis </td><td>chemical</td><td>disease</td><td> 277</td><td>352860</td><td>27</td><td>20688473</td><td>2.514733</td><td>0.1286477</td></tr>\n",
       "\t<tr><th scope=row>name23</th><td>Cyfluthrin       </td><td>Multiple Sclerosis </td><td>chemical</td><td>disease</td><td> 611</td><td>352860</td><td>54</td><td>20688473</td><td>2.373446</td><td>0.1279663</td></tr>\n",
       "\t<tr><th scope=row>name26</th><td>Dieldrin         </td><td>Multiple Sclerosis </td><td>chemical</td><td>disease</td><td>1364</td><td>352860</td><td>92</td><td>20688473</td><td>1.983521</td><td>0.1115669</td></tr>\n",
       "\t<tr><th scope=row>name27</th><td>Flubendiamide    </td><td>Multiple Sclerosis </td><td>chemical</td><td>disease</td><td> 174</td><td>352860</td><td>13</td><td>20688473</td><td>2.131084</td><td>0.1034412</td></tr>\n",
       "\t<tr><th scope=row>name29</th><td>Chlordecone      </td><td>Multiple Sclerosis </td><td>chemical</td><td>disease</td><td> 224</td><td>352860</td><td>17</td><td>20688473</td><td>2.153695</td><td>0.1065402</td></tr>\n",
       "\t<tr><th scope=row>name31</th><td>Picoxystrobin    </td><td>Multiple Sclerosis </td><td>chemical</td><td>disease</td><td>  59</td><td>352860</td><td>19</td><td>20688473</td><td>4.238872</td><td>0.2113687</td></tr>\n",
       "</tbody>\n",
       "</table>\n"
      ],
      "text/latex": [
       "A data.frame: 8 × 10\n",
       "\\begin{tabular}{r|llllllllll}\n",
       "  & term\\_a & term\\_b & class\\_a & class\\_b & count\\_a & count\\_b & count\\_ab & count\\_docs & pmi & npmi\\\\\n",
       "  & <chr> & <chr> & <chr> & <chr> & <int> & <int> & <int> & <int> & <dbl> & <dbl>\\\\\n",
       "\\hline\n",
       "\tname4 & Dieldrin          & Parkinson's Disease & chemical & disease & 1364 &  92166 & 49 & 20688473 & 3.011459 & 0.1611473\\\\\n",
       "\tname10 & Buspirone         & Parkinson's Disease & chemical & disease & 1199 &  92166 & 32 & 20688473 & 2.582761 & 0.1338057\\\\\n",
       "\tname22 & Ethylene thiourea & Multiple Sclerosis  & chemical & disease &  277 & 352860 & 27 & 20688473 & 2.514733 & 0.1286477\\\\\n",
       "\tname23 & Cyfluthrin        & Multiple Sclerosis  & chemical & disease &  611 & 352860 & 54 & 20688473 & 2.373446 & 0.1279663\\\\\n",
       "\tname26 & Dieldrin          & Multiple Sclerosis  & chemical & disease & 1364 & 352860 & 92 & 20688473 & 1.983521 & 0.1115669\\\\\n",
       "\tname27 & Flubendiamide     & Multiple Sclerosis  & chemical & disease &  174 & 352860 & 13 & 20688473 & 2.131084 & 0.1034412\\\\\n",
       "\tname29 & Chlordecone       & Multiple Sclerosis  & chemical & disease &  224 & 352860 & 17 & 20688473 & 2.153695 & 0.1065402\\\\\n",
       "\tname31 & Picoxystrobin     & Multiple Sclerosis  & chemical & disease &   59 & 352860 & 19 & 20688473 & 4.238872 & 0.2113687\\\\\n",
       "\\end{tabular}\n"
      ],
      "text/markdown": [
       "\n",
       "A data.frame: 8 × 10\n",
       "\n",
       "| <!--/--> | term_a &lt;chr&gt; | term_b &lt;chr&gt; | class_a &lt;chr&gt; | class_b &lt;chr&gt; | count_a &lt;int&gt; | count_b &lt;int&gt; | count_ab &lt;int&gt; | count_docs &lt;int&gt; | pmi &lt;dbl&gt; | npmi &lt;dbl&gt; |\n",
       "|---|---|---|---|---|---|---|---|---|---|---|\n",
       "| name4 | Dieldrin          | Parkinson's Disease | chemical | disease | 1364 |  92166 | 49 | 20688473 | 3.011459 | 0.1611473 |\n",
       "| name10 | Buspirone         | Parkinson's Disease | chemical | disease | 1199 |  92166 | 32 | 20688473 | 2.582761 | 0.1338057 |\n",
       "| name22 | Ethylene thiourea | Multiple Sclerosis  | chemical | disease |  277 | 352860 | 27 | 20688473 | 2.514733 | 0.1286477 |\n",
       "| name23 | Cyfluthrin        | Multiple Sclerosis  | chemical | disease |  611 | 352860 | 54 | 20688473 | 2.373446 | 0.1279663 |\n",
       "| name26 | Dieldrin          | Multiple Sclerosis  | chemical | disease | 1364 | 352860 | 92 | 20688473 | 1.983521 | 0.1115669 |\n",
       "| name27 | Flubendiamide     | Multiple Sclerosis  | chemical | disease |  174 | 352860 | 13 | 20688473 | 2.131084 | 0.1034412 |\n",
       "| name29 | Chlordecone       | Multiple Sclerosis  | chemical | disease |  224 | 352860 | 17 | 20688473 | 2.153695 | 0.1065402 |\n",
       "| name31 | Picoxystrobin     | Multiple Sclerosis  | chemical | disease |   59 | 352860 | 19 | 20688473 | 4.238872 | 0.2113687 |\n",
       "\n"
      ],
      "text/plain": [
       "       term_a            term_b              class_a  class_b count_a count_b\n",
       "name4  Dieldrin          Parkinson's Disease chemical disease 1364     92166 \n",
       "name10 Buspirone         Parkinson's Disease chemical disease 1199     92166 \n",
       "name22 Ethylene thiourea Multiple Sclerosis  chemical disease  277    352860 \n",
       "name23 Cyfluthrin        Multiple Sclerosis  chemical disease  611    352860 \n",
       "name26 Dieldrin          Multiple Sclerosis  chemical disease 1364    352860 \n",
       "name27 Flubendiamide     Multiple Sclerosis  chemical disease  174    352860 \n",
       "name29 Chlordecone       Multiple Sclerosis  chemical disease  224    352860 \n",
       "name31 Picoxystrobin     Multiple Sclerosis  chemical disease   59    352860 \n",
       "       count_ab count_docs pmi      npmi     \n",
       "name4  49       20688473   3.011459 0.1611473\n",
       "name10 32       20688473   2.582761 0.1338057\n",
       "name22 27       20688473   2.514733 0.1286477\n",
       "name23 54       20688473   2.373446 0.1279663\n",
       "name26 92       20688473   1.983521 0.1115669\n",
       "name27 13       20688473   2.131084 0.1034412\n",
       "name29 17       20688473   2.153695 0.1065402\n",
       "name31 19       20688473   4.238872 0.2113687"
      ]
     },
     "metadata": {},
     "output_type": "display_data"
    }
   ],
   "source": [
    "subset(R1,npmi>0.1)"
   ]
  },
  {
   "cell_type": "markdown",
   "id": "4d2525c1-0c9f-4b89-a26d-c08c542073f4",
   "metadata": {},
   "source": []
  },
  {
   "cell_type": "markdown",
   "id": "340bca14-8a86-44f8-8aa0-b714c251bceb",
   "metadata": {},
   "source": [
    "6. Interpretation\n",
    "There is evidence linking **dieldrin** and **buspirone** to Parkinson's disease, although the relationships are different in nature.\n",
    "\n",
    "**Dieldrin and Parkinson's Disease**:\n",
    "   Dieldrin is a pesticide that has been studied for its neurotoxic effects, particularly in relation to Parkinson's disease (PD). [Research](https://academic.oup.com/toxsci/article/196/1/99/7247543) shows that exposure to dieldrin can contribute to the degeneration of dopaminergic neurons, which is a hallmark of Parkinson's disease. Animal studies have demonstrated that dieldrin exposure increases the release of dopamine and can induce neurodegeneration, potentially triggering or exacerbating Parkinsonian symptoms.\n",
    "\n",
    "\n",
    " **Buspirone and Parkinson's Disease**:\n",
    "   Buspirone is an anti-anxiety medication often prescribed for generalized anxiety disorder. It has been tested in clinical trials to assess its effectiveness in treating anxiety in Parkinson’s patients. Although buspirone has shown some efficacy in reducing anxiety in individuals with Parkinson's, its tolerability is a concern. [In a Phase II trial, 53% of patients experienced worsening motor symptoms while on buspirone, and a significant portion of patients discontinued the medication due to side effects](https://www.sciencedirect.com/science/article/abs/pii/S1353802020308117#!).\n"
   ]
  },
  {
   "cell_type": "code",
   "execution_count": null,
   "id": "d760a3b2-a6ad-4800-901a-2ceeff6cc976",
   "metadata": {},
   "outputs": [],
   "source": []
  }
 ],
 "metadata": {
  "kernelspec": {
   "display_name": "relminer",
   "language": "R",
   "name": "ir"
  },
  "language_info": {
   "codemirror_mode": "r",
   "file_extension": ".r",
   "mimetype": "text/x-r-source",
   "name": "R",
   "pygments_lexer": "r",
   "version": "4.4.1"
  }
 },
 "nbformat": 4,
 "nbformat_minor": 5
}
